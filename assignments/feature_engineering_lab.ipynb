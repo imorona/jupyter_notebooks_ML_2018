{
 "cells": [
  {
   "cell_type": "markdown",
   "metadata": {},
   "source": [
    "# Feature Engineering\n",
    "\n",
    "### Name: [your name here]\n",
    "\n",
    "This lab has two parts, [classification](#Feature-Engineering:-Classification) and [regression](#Feature-Engineering:-Regression).\n",
    "\n",
    "## Feature Engineering: Classification\n",
    "\n",
    "Load up `classification_exercises.csv`.  That dataset has 5 classification datasets inside of it, they should be clear from the column names.  For the first three, determine the features to add in order to best fit the data.  You'll know you've got it when the boundary is drawn appropriately.  Refer back to examples in the Polynomial Regression notebook for help.  The final two exercises are ungraded bonuses.  I imagine most people will skip them, but feel free to try to take on the challenge!"
   ]
  },
  {
   "cell_type": "code",
   "execution_count": null,
   "metadata": {
    "collapsed": true
   },
   "outputs": [],
   "source": [
    "# Good luck!"
   ]
  },
  {
   "cell_type": "markdown",
   "metadata": {},
   "source": [
    "## Feature Engineering: Regression\n",
    "\n",
    "I now want you to load up `autos.csv`.  This is a single dataset; you may recognize it from the Datasets and Data Types notebook.  The goal here is to create a regression with horsepower as the response.  For now, only use numerical columns as your features.  Specifically, you are to do the following:\n",
    "\n",
    "1. Create a linear regression model with all the numerical features.  Determine its training **root mean squared error**: \n",
    "$$ RMSE = \\sqrt{\\dfrac{\\sum_{i=1}^n(y_i - {\\widehat{y}_i)^2}}{n}}$$ \n",
    "2. Plot scatter plots of each numerical feature against the response.  Are there any that seem to be non-linearly related?  If so, add those engineered features.  Refit a second model with these new features added, and compare to the first model in terms of RMSE.  \n",
    "3. Using the \"medians for the other values\" trick found in the Polynomial Regression notebook, plot your \"surface\" as it intersects in the scatterplots you made."
   ]
  },
  {
   "cell_type": "code",
   "execution_count": 34,
   "metadata": {},
   "outputs": [],
   "source": [
    "# Good luck!"
   ]
  }
 ],
 "metadata": {
  "kernelspec": {
   "display_name": "Python 3",
   "language": "python",
   "name": "python3"
  },
  "language_info": {
   "codemirror_mode": {
    "name": "ipython",
    "version": 3
   },
   "file_extension": ".py",
   "mimetype": "text/x-python",
   "name": "python",
   "nbconvert_exporter": "python",
   "pygments_lexer": "ipython3",
   "version": "3.5.4"
  }
 },
 "nbformat": 4,
 "nbformat_minor": 2
}
